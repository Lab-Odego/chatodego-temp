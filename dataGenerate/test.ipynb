{
 "cells": [
  {
   "cell_type": "code",
   "execution_count": 1,
   "metadata": {},
   "outputs": [
    {
     "name": "stdout",
     "output_type": "stream",
     "text": [
      "Hello\n"
     ]
    }
   ],
   "source": [
    "print(\"Hello\")"
   ]
  },
  {
   "cell_type": "code",
   "execution_count": 2,
   "metadata": {},
   "outputs": [],
   "source": [
    "import os\n",
    "import openai"
   ]
  },
  {
   "cell_type": "code",
   "execution_count": 22,
   "metadata": {},
   "outputs": [],
   "source": [
    "path = os.getcwd()\n",
    "OPEN_API_KEY=open(path + \"\\\\api_key.txt\", \"r\").read()\n",
    "openai.api_key = OPEN_API_KEY\n",
    "\n",
    "database = \"\""
   ]
  },
  {
   "cell_type": "code",
   "execution_count": 6,
   "metadata": {},
   "outputs": [],
   "source": [
    "def chat(message):\n",
    "    response = openai.ChatCompletion.create(\n",
    "        model=\"gpt-3.5-turbo\",\n",
    "        messages=[\n",
    "            {\"role\": \"system\", \"content\": database},\n",
    "            {\"role\": \"user\", \"content\": message},\n",
    "        ],\n",
    "    )\n",
    "    print(response.choices[0][\"message\"][\"content\"])"
   ]
  },
  {
   "cell_type": "code",
   "execution_count": 7,
   "metadata": {},
   "outputs": [
    {
     "name": "stdout",
     "output_type": "stream",
     "text": [
      "Hello, how can I assist you?\n"
     ]
    }
   ],
   "source": [
    "chat(\"Hi\")"
   ]
  },
  {
   "cell_type": "code",
   "execution_count": 8,
   "metadata": {},
   "outputs": [
    {
     "name": "stdout",
     "output_type": "stream",
     "text": [
      "임영목은 대한민국의 배우이며, 1985년 생입니다. 그는 2011년 SBS 드라마 '마이 러브 바이러스'로 배우 데뷔하였으며, 이후 '천상여자', '달콤한 인생', '미쁘단 우리집', '오늘부터 사랑해' 등 다양한 드라마에 출연하였습니다. 또한 여러 영화에서도 연기를 했으며, 대표적인 작품으로는 '여고괴담 5', '아이언 클래드', '살인소설' 등이 있습니다. 그의 연기는 세심하고 감성적이며, 대중성과 연기력을 겸비하고 있습니다.\n"
     ]
    }
   ],
   "source": [
    "chat(\"임영목에 대해서 아니?\")"
   ]
  },
  {
   "cell_type": "code",
   "execution_count": 11,
   "metadata": {},
   "outputs": [
    {
     "name": "stdout",
     "output_type": "stream",
     "text": [
      "좋습니다. 임영목 개발자는 JAVA에 대한 전문 지식이 있고, 이를 활용하여 소프트웨어 개발에 기여할 수 있는 역량을 가진 개발자입니다. 또한 성실하고 책임감이 강한 편이며, 팀원들과 함께 협력하여 일을 처리하는 능력이 뛰어나다고 생각됩니다.\n"
     ]
    }
   ],
   "source": [
    "database = \"임영목은 JAVA를 좋아하는 개발자입니다.\"\n",
    "chat(\"임영목에 대해서 아니?\")"
   ]
  },
  {
   "cell_type": "code",
   "execution_count": 9,
   "metadata": {},
   "outputs": [
    {
     "name": "stdout",
     "output_type": "stream",
     "text": [
      "저는 임영목의 취향을 알지 못하겠지만, 일반적으로 사람들이 많이 좋아하는 과일 중 하나로는 바나나가 있습니다. 다른 과일로는 사과, 오렌지, 딸기, 파인애플 등이 있습니다. 하지만 개인 마다 선호하는 과일이 다를 수 있으므로 정확한 답변은 어렵습니다.\n"
     ]
    }
   ],
   "source": [
    "chat(\"임영목은 어떤 과일을 좋아하지?\")"
   ]
  },
  {
   "cell_type": "code",
   "execution_count": 10,
   "metadata": {},
   "outputs": [
    {
     "name": "stdout",
     "output_type": "stream",
     "text": [
      "임영목은 사과를 좋아하는 것으로 알려져 있습니다.\n"
     ]
    }
   ],
   "source": [
    "database = \"임영목은 사과를 좋아한다.\"\n",
    "\n",
    "chat(\"임영목은 좋아하는 과일은 뭔가요?\")"
   ]
  },
  {
   "cell_type": "code",
   "execution_count": 17,
   "metadata": {},
   "outputs": [
    {
     "name": "stdout",
     "output_type": "stream",
     "text": [
      "Requirement already satisfied: langchain in c:\\users\\young\\appdata\\local\\programs\\python\\python39\\lib\\site-packages (0.0.162)\n",
      "Requirement already satisfied: PyYAML>=5.4.1 in c:\\users\\young\\appdata\\local\\programs\\python\\python39\\lib\\site-packages (from langchain) (6.0)\n",
      "Requirement already satisfied: SQLAlchemy<3,>=1.4 in c:\\users\\young\\appdata\\local\\programs\\python\\python39\\lib\\site-packages (from langchain) (2.0.12)\n",
      "Requirement already satisfied: aiohttp<4.0.0,>=3.8.3 in c:\\users\\young\\appdata\\local\\programs\\python\\python39\\lib\\site-packages (from langchain) (3.8.4)\n",
      "Requirement already satisfied: async-timeout<5.0.0,>=4.0.0 in c:\\users\\young\\appdata\\local\\programs\\python\\python39\\lib\\site-packages (from langchain) (4.0.2)\n",
      "Requirement already satisfied: dataclasses-json<0.6.0,>=0.5.7 in c:\\users\\young\\appdata\\local\\programs\\python\\python39\\lib\\site-packages (from langchain) (0.5.7)\n",
      "Requirement already satisfied: numexpr<3.0.0,>=2.8.4 in c:\\users\\young\\appdata\\local\\programs\\python\\python39\\lib\\site-packages (from langchain) (2.8.4)\n",
      "Requirement already satisfied: numpy<2,>=1 in c:\\users\\young\\appdata\\local\\programs\\python\\python39\\lib\\site-packages (from langchain) (1.24.2)\n",
      "Requirement already satisfied: openapi-schema-pydantic<2.0,>=1.2 in c:\\users\\young\\appdata\\local\\programs\\python\\python39\\lib\\site-packages (from langchain) (1.2.4)\n",
      "Requirement already satisfied: pydantic<2,>=1 in c:\\users\\young\\appdata\\local\\programs\\python\\python39\\lib\\site-packages (from langchain) (1.10.7)\n",
      "Requirement already satisfied: requests<3,>=2 in c:\\users\\young\\appdata\\local\\programs\\python\\python39\\lib\\site-packages (from langchain) (2.27.1)\n",
      "Requirement already satisfied: tenacity<9.0.0,>=8.1.0 in c:\\users\\young\\appdata\\local\\programs\\python\\python39\\lib\\site-packages (from langchain) (8.2.2)\n",
      "Requirement already satisfied: tqdm>=4.48.0 in c:\\users\\young\\appdata\\local\\programs\\python\\python39\\lib\\site-packages (from langchain) (4.65.0)\n",
      "Requirement already satisfied: attrs>=17.3.0 in c:\\users\\young\\appdata\\local\\programs\\python\\python39\\lib\\site-packages (from aiohttp<4.0.0,>=3.8.3->langchain) (23.1.0)\n",
      "Requirement already satisfied: charset-normalizer<4.0,>=2.0 in c:\\users\\young\\appdata\\local\\programs\\python\\python39\\lib\\site-packages (from aiohttp<4.0.0,>=3.8.3->langchain) (2.0.12)\n",
      "Requirement already satisfied: multidict<7.0,>=4.5 in c:\\users\\young\\appdata\\local\\programs\\python\\python39\\lib\\site-packages (from aiohttp<4.0.0,>=3.8.3->langchain) (6.0.4)\n",
      "Requirement already satisfied: yarl<2.0,>=1.0 in c:\\users\\young\\appdata\\local\\programs\\python\\python39\\lib\\site-packages (from aiohttp<4.0.0,>=3.8.3->langchain) (1.9.2)\n",
      "Requirement already satisfied: frozenlist>=1.1.1 in c:\\users\\young\\appdata\\local\\programs\\python\\python39\\lib\\site-packages (from aiohttp<4.0.0,>=3.8.3->langchain) (1.3.3)\n",
      "Requirement already satisfied: aiosignal>=1.1.2 in c:\\users\\young\\appdata\\local\\programs\\python\\python39\\lib\\site-packages (from aiohttp<4.0.0,>=3.8.3->langchain) (1.3.1)\n",
      "Requirement already satisfied: marshmallow<4.0.0,>=3.3.0 in c:\\users\\young\\appdata\\local\\programs\\python\\python39\\lib\\site-packages (from dataclasses-json<0.6.0,>=0.5.7->langchain) (3.19.0)\n",
      "Requirement already satisfied: marshmallow-enum<2.0.0,>=1.5.1 in c:\\users\\young\\appdata\\local\\programs\\python\\python39\\lib\\site-packages (from dataclasses-json<0.6.0,>=0.5.7->langchain) (1.5.1)\n",
      "Requirement already satisfied: typing-inspect>=0.4.0 in c:\\users\\young\\appdata\\local\\programs\\python\\python39\\lib\\site-packages (from dataclasses-json<0.6.0,>=0.5.7->langchain) (0.8.0)\n",
      "Requirement already satisfied: typing-extensions>=4.2.0 in c:\\users\\young\\appdata\\local\\programs\\python\\python39\\lib\\site-packages (from pydantic<2,>=1->langchain) (4.5.0)\n",
      "Requirement already satisfied: urllib3<1.27,>=1.21.1 in c:\\users\\young\\appdata\\local\\programs\\python\\python39\\lib\\site-packages (from requests<3,>=2->langchain) (1.26.15)\n",
      "Requirement already satisfied: certifi>=2017.4.17 in c:\\users\\young\\appdata\\local\\programs\\python\\python39\\lib\\site-packages (from requests<3,>=2->langchain) (2022.12.7)\n",
      "Requirement already satisfied: idna<4,>=2.5 in c:\\users\\young\\appdata\\local\\programs\\python\\python39\\lib\\site-packages (from requests<3,>=2->langchain) (3.4)\n",
      "Requirement already satisfied: greenlet!=0.4.17 in c:\\users\\young\\appdata\\local\\programs\\python\\python39\\lib\\site-packages (from SQLAlchemy<3,>=1.4->langchain) (2.0.1)\n",
      "Requirement already satisfied: colorama in c:\\users\\young\\appdata\\local\\programs\\python\\python39\\lib\\site-packages (from tqdm>=4.48.0->langchain) (0.4.6)\n",
      "Requirement already satisfied: packaging>=17.0 in c:\\users\\young\\appdata\\local\\programs\\python\\python39\\lib\\site-packages (from marshmallow<4.0.0,>=3.3.0->dataclasses-json<0.6.0,>=0.5.7->langchain) (23.0)\n",
      "Requirement already satisfied: mypy-extensions>=0.3.0 in c:\\users\\young\\appdata\\local\\programs\\python\\python39\\lib\\site-packages (from typing-inspect>=0.4.0->dataclasses-json<0.6.0,>=0.5.7->langchain) (1.0.0)\n"
     ]
    }
   ],
   "source": [
    "!pip install langchain"
   ]
  },
  {
   "cell_type": "code",
   "execution_count": 16,
   "metadata": {},
   "outputs": [
    {
     "name": "stdout",
     "output_type": "stream",
     "text": [
      "Package                 Version\n",
      "----------------------- -----------\n",
      "absl-py                 1.4.0\n",
      "aiohttp                 3.8.4\n",
      "aiosignal               1.3.1\n",
      "appdirs                 1.4.4\n",
      "asttokens               2.2.1\n",
      "async-timeout           4.0.2\n",
      "attrs                   23.1.0\n",
      "backcall                0.2.0\n",
      "certifi                 2022.12.7\n",
      "charset-normalizer      2.0.12\n",
      "click                   8.1.3\n",
      "colorama                0.4.6\n",
      "comm                    0.1.3\n",
      "dataclasses-json        0.5.7\n",
      "debugpy                 1.6.7\n",
      "decorator               5.1.1\n",
      "docker-pycreds          0.4.0\n",
      "exceptiongroup          1.1.1\n",
      "executing               1.2.0\n",
      "filelock                3.12.0\n",
      "fire                    0.5.0\n",
      "frozenlist              1.3.3\n",
      "fsspec                  2023.4.0\n",
      "gitdb                   4.0.10\n",
      "GitPython               3.1.31\n",
      "greenlet                2.0.1\n",
      "huggingface-hub         0.14.1\n",
      "idna                    3.4\n",
      "importlib-metadata      6.6.0\n",
      "iniconfig               2.0.0\n",
      "ipykernel               6.23.0\n",
      "ipython                 8.13.2\n",
      "jedi                    0.18.2\n",
      "Jinja2                  3.1.2\n",
      "joblib                  1.2.0\n",
      "jupyter_client          8.2.0\n",
      "jupyter_core            5.3.0\n",
      "langchain               0.0.162\n",
      "MarkupSafe              2.1.2\n",
      "marshmallow             3.19.0\n",
      "marshmallow-enum        1.5.1\n",
      "matplotlib-inline       0.1.6\n",
      "mpmath                  1.3.0\n",
      "msvc-runtime            14.34.31931\n",
      "multidict               6.0.4\n",
      "mypy-extensions         1.0.0\n",
      "nest-asyncio            1.5.6\n",
      "networkx                3.1\n",
      "nltk                    3.8.1\n",
      "numexpr                 2.8.4\n",
      "numpy                   1.24.2\n",
      "openai                  0.27.6\n",
      "openapi-schema-pydantic 1.2.4\n",
      "packaging               23.0\n",
      "pandas                  2.0.0\n",
      "parso                   0.8.3\n",
      "pathtools               0.1.2\n",
      "pickleshare             0.7.5\n",
      "pip                     23.1.2\n",
      "platformdirs            3.5.0\n",
      "playwright              1.32.1\n",
      "pluggy                  1.0.0\n",
      "prompt-toolkit          3.0.38\n",
      "protobuf                4.22.3\n",
      "psutil                  5.9.5\n",
      "pure-eval               0.2.2\n",
      "pydantic                1.10.7\n",
      "pyee                    9.0.4\n",
      "Pygments                2.15.1\n",
      "pytest                  7.3.0\n",
      "pytest-base-url         2.0.0\n",
      "pytest-playwright       0.3.2\n",
      "python-dateutil         2.8.2\n",
      "python-slugify          6.1.2\n",
      "pytz                    2023.3\n",
      "pywin32                 306\n",
      "PyYAML                  6.0\n",
      "pyzmq                   25.0.2\n",
      "regex                   2023.5.4\n",
      "requests                2.27.1\n",
      "rouge-score             0.1.2\n",
      "sentencepiece           0.1.99\n",
      "sentry-sdk              1.21.1\n",
      "setproctitle            1.3.2\n",
      "setuptools              67.6.1\n",
      "six                     1.16.0\n",
      "smmap                   5.0.0\n",
      "SQLAlchemy              2.0.12\n",
      "stack-data              0.6.2\n",
      "sympy                   1.11.1\n",
      "tenacity                8.2.2\n",
      "termcolor               2.3.0\n",
      "text-unidecode          1.3\n",
      "tokenizers              0.12.1\n",
      "tomli                   2.0.1\n",
      "torch                   2.0.0\n",
      "tornado                 6.3.1\n",
      "tqdm                    4.65.0\n",
      "traitlets               5.9.0\n",
      "transformers            4.28.1\n",
      "typing_extensions       4.5.0\n",
      "typing-inspect          0.8.0\n",
      "tzdata                  2023.3\n",
      "urllib3                 1.26.15\n",
      "wandb                   0.15.1\n",
      "wcwidth                 0.2.6\n",
      "yarl                    1.9.2\n",
      "zipp                    3.15.0\n",
      "Note: you may need to restart the kernel to use updated packages.\n"
     ]
    }
   ],
   "source": [
    "pip list"
   ]
  },
  {
   "cell_type": "code",
   "execution_count": 20,
   "metadata": {},
   "outputs": [],
   "source": [
    "from langchain.chat_models import ChatOpenAI\n",
    "from langchain.schema import HumanMessage, SystemMessage, AIMessage"
   ]
  },
  {
   "cell_type": "code",
   "execution_count": 24,
   "metadata": {},
   "outputs": [],
   "source": [
    "os.environ[\"OPENAI_API_KEY\"] = OPEN_API_KEY"
   ]
  },
  {
   "cell_type": "code",
   "execution_count": 25,
   "metadata": {},
   "outputs": [
    {
     "name": "stdout",
     "output_type": "stream",
     "text": [
      "\n",
      "\n",
      "Rainbow Sockery.\n"
     ]
    }
   ],
   "source": [
    "from langchain.llms import OpenAI\n",
    "llm = OpenAI(temperature=0.9)\n",
    "text = \"What would be a good company name for a company that makes colorful socks?\"\n",
    "print(llm(text))"
   ]
  }
 ],
 "metadata": {
  "kernelspec": {
   "display_name": "Python 3",
   "language": "python",
   "name": "python3"
  },
  "language_info": {
   "codemirror_mode": {
    "name": "ipython",
    "version": 3
   },
   "file_extension": ".py",
   "mimetype": "text/x-python",
   "name": "python",
   "nbconvert_exporter": "python",
   "pygments_lexer": "ipython3",
   "version": "3.9.13"
  },
  "orig_nbformat": 4
 },
 "nbformat": 4,
 "nbformat_minor": 2
}
