{
  "cells": [
    {
      "attachments": {},
      "cell_type": "markdown",
      "metadata": {
        "id": "CdacpZQmHQoa"
      },
      "source": [
        "# Setting"
      ]
    },
    {
      "attachments": {},
      "cell_type": "markdown",
      "metadata": {
        "id": "Fex18XWtJ50A"
      },
      "source": [
        "### Import Necessary Libraries"
      ]
    },
    {
      "cell_type": "code",
      "execution_count": null,
      "metadata": {
        "colab": {
          "base_uri": "https://localhost:8080/"
        },
        "id": "t1HlxLaRJ-uv",
        "outputId": "1bf9f6e9-d581-462f-9118-d6cd0550abb1"
      },
      "outputs": [
        {
          "name": "stdout",
          "output_type": "stream",
          "text": [
            "Completed!\n"
          ]
        }
      ],
      "source": [
        "!pip install flask --quiet\n",
        "!pip install flask-ngrok --quiet\n",
        "print(\"Completed!\")"
      ]
    },
    {
      "attachments": {},
      "cell_type": "markdown",
      "metadata": {
        "id": "KLolLhMAKaJ2"
      },
      "source": [
        "### Setup and Installation of Ngrok"
      ]
    },
    {
      "cell_type": "code",
      "execution_count": null,
      "metadata": {
        "colab": {
          "base_uri": "https://localhost:8080/"
        },
        "id": "u53e-GOtKepR",
        "outputId": "04ddcf44-6343-42cf-a576-86cf517b9519"
      },
      "outputs": [
        {
          "name": "stdout",
          "output_type": "stream",
          "text": [
            "--2023-06-03 12:57:43--  https://bin.equinox.io/c/4VmDzA7iaHb/ngrok-stable-linux-amd64.tgz\n",
            "Resolving bin.equinox.io (bin.equinox.io)... 54.161.241.46, 52.202.168.65, 18.205.222.128, ...\n",
            "Connecting to bin.equinox.io (bin.equinox.io)|54.161.241.46|:443... connected.\n",
            "HTTP request sent, awaiting response... 200 OK\n",
            "Length: 13856790 (13M) [application/octet-stream]\n",
            "Saving to: ‘ngrok-stable-linux-amd64.tgz’\n",
            "\n",
            "ngrok-stable-linux- 100%[===================>]  13.21M  6.41MB/s    in 2.1s    \n",
            "\n",
            "2023-06-03 12:57:46 (6.41 MB/s) - ‘ngrok-stable-linux-amd64.tgz’ saved [13856790/13856790]\n",
            "\n"
          ]
        }
      ],
      "source": [
        "# install ngrok linux version using the following command or you can get the\n",
        "# latest version from its official website- https://dashboard.ngrok.com/get-started/setup\n",
        "\n",
        "!wget https://bin.equinox.io/c/4VmDzA7iaHb/ngrok-stable-linux-amd64.tgz"
      ]
    },
    {
      "cell_type": "code",
      "execution_count": null,
      "metadata": {
        "colab": {
          "base_uri": "https://localhost:8080/"
        },
        "id": "GhRd4dpPKtu7",
        "outputId": "05fa5a1f-bffc-4e26-bb6c-54feda8fc987"
      },
      "outputs": [
        {
          "name": "stdout",
          "output_type": "stream",
          "text": [
            "ngrok\n"
          ]
        }
      ],
      "source": [
        "# extract the downloaded file using the following command \n",
        "\n",
        "!tar -xvf /content/ngrok-stable-linux-amd64.tgz"
      ]
    },
    {
      "attachments": {},
      "cell_type": "markdown",
      "metadata": {
        "id": "71E1yzcHLWpL"
      },
      "source": [
        "### The next step is to get your AuthToken from ngrok using this link- <br>\n",
        " https://dashboard.ngrok.com/get-started/your-authtoken"
      ]
    },
    {
      "cell_type": "code",
      "execution_count": null,
      "metadata": {
        "colab": {
          "base_uri": "https://localhost:8080/"
        },
        "id": "86Zuo90scOMV",
        "outputId": "af2eb828-a9fc-40bd-9d4b-f637f0ba84e3"
      },
      "outputs": [
        {
          "name": "stdout",
          "output_type": "stream",
          "text": [
            "Authtoken saved to configuration file: /root/.ngrok2/ngrok.yml\n"
          ]
        }
      ],
      "source": [
        "# paste your AuthToken here and execute this command\n",
        "\n",
        "!./ngrok authtoken 2Q6RnKjtAe6PgFctmayDkUVV3wy_7iArwfvJqkRGugqavUaai"
      ]
    },
    {
      "cell_type": "code",
      "execution_count": null,
      "metadata": {
        "colab": {
          "base_uri": "https://localhost:8080/"
        },
        "id": "92XHi5K6NO1o",
        "outputId": "17099c87-1b8b-4423-fbf8-5ea9fad591d1"
      },
      "outputs": [
        {
          "name": "stdout",
          "output_type": "stream",
          "text": [
            "Looking in indexes: https://pypi.org/simple, https://us-python.pkg.dev/colab-wheels/public/simple/\n",
            "Collecting pyngrok\n",
            "  Using cached pyngrok-6.0.0.tar.gz (681 kB)\n",
            "  Preparing metadata (setup.py) ... \u001b[?25l\u001b[?25hdone\n",
            "Requirement already satisfied: PyYAML in /usr/local/lib/python3.10/dist-packages (from pyngrok) (6.0)\n",
            "Building wheels for collected packages: pyngrok\n",
            "  Building wheel for pyngrok (setup.py) ... \u001b[?25l\u001b[?25hdone\n",
            "  Created wheel for pyngrok: filename=pyngrok-6.0.0-py3-none-any.whl size=19867 sha256=f1f23da97a501eb1570afa50df4fad20052c5fee8996c38f2d78176049ce0c7e\n",
            "  Stored in directory: /root/.cache/pip/wheels/5c/42/78/0c3d438d7f5730451a25f7ac6cbf4391759d22a67576ed7c2c\n",
            "Successfully built pyngrok\n",
            "Installing collected packages: pyngrok\n",
            "Successfully installed pyngrok-6.0.0\n"
          ]
        }
      ],
      "source": [
        "!pip install pyngrok"
      ]
    },
    {
      "attachments": {},
      "cell_type": "markdown",
      "metadata": {
        "id": "PfW0NHtDFOmJ"
      },
      "source": [
        "<br>\n",
        "\n",
        "\n",
        "# TRY LOG\n",
        "-----"
      ]
    },
    {
      "attachments": {},
      "cell_type": "markdown",
      "metadata": {
        "id": "zSa5cvibKIUW"
      },
      "source": [
        "### Try1 : flask app ngrok 주소로 요청 받기"
      ]
    },
    {
      "cell_type": "code",
      "execution_count": null,
      "metadata": {
        "id": "XLlugcOeKlWH"
      },
      "outputs": [],
      "source": [
        "# import Flask from flask module\n",
        "from flask import Flask, request\n",
        "# import run_with_ngrok from flask_ngrok to run the app using ngrok\n",
        "from flask_ngrok import run_with_ngrok\n",
        "  \n",
        "app = Flask(__name__) #app name\n",
        "run_with_ngrok(app)\n",
        "  \n",
        "# @app.route(\"/\")\n",
        "# def hello():\n",
        "#     return \"Hello Friends! from Pykit.org. Thank you! for reading this article.\"\n",
        "\n",
        "@app.route('/', methods=['POST'])\n",
        "def handle_post_request():\n",
        "    # Process the received POST request here\n",
        "    data = request.get_json()\n",
        "    # Perform desired operations or actions with the data\n",
        "    \n",
        "    # Return a response indicating successful reception\n",
        "    return {'message': 'POST request received successfully'}\n",
        "\n",
        "\n",
        "\n",
        "app.run()"
      ]
    },
    {
      "attachments": {},
      "cell_type": "markdown",
      "metadata": {
        "id": "zPYZE6ebEyAD"
      },
      "source": [
        "<br>\n",
        "\n",
        "-----\n",
        "\n",
        "<br>\n",
        "\n",
        "### Try2 : flask app ngrok 주소로 요청 받고 응답 보내기"
      ]
    },
    {
      "cell_type": "code",
      "execution_count": null,
      "metadata": {
        "id": "6AsxGu56WdSy"
      },
      "outputs": [],
      "source": [
        "from flask import Flask, request\n",
        "from flask_ngrok import run_with_ngrok\n",
        "\n",
        "import requests\n",
        "import json\n",
        "  \n",
        "app = Flask(__name__) #app name\n",
        "run_with_ngrok(app)\n",
        "\n",
        "fastapi_ngrok_url = \"https://db09-2001-e60-9362-94c5-8578-752f-54ec-253e.ngrok-free.app\"  # FastAPI Ngrok URL\n",
        "\n",
        "@app.route('/chatbot', methods=['POST'])\n",
        "def handle_post_request():\n",
        "    # Process the received POST request here\n",
        "    data = request.get_json()\n",
        "    # Perform desired operations or actions with the data\n",
        "    \n",
        "    # Send the processed data to FastAPI using requests\n",
        "    headers = {\"Content-Type\": \"application/json\"}\n",
        "    response = requests.post(fastapi_ngrok_url + \"/chatbot\", json=json.dumps(data), headers=headers)\n",
        "\n",
        "    return response.json()\n",
        "\n",
        "    if response.status_code == 200:\n",
        "        return response.json()\n",
        "    else:\n",
        "        return {\"error\": \"An error occurred while sending the processed data to FastAPI.\"}\n",
        "  "
      ]
    },
    {
      "cell_type": "code",
      "execution_count": null,
      "metadata": {
        "colab": {
          "base_uri": "https://localhost:8080/"
        },
        "id": "_neNjnqExOCp",
        "outputId": "88db46b8-1db9-49ab-bc31-14f70b8f932f"
      },
      "outputs": [
        {
          "name": "stdout",
          "output_type": "stream",
          "text": [
            " * Serving Flask app '__main__'\n",
            " * Debug mode: off\n"
          ]
        },
        {
          "name": "stderr",
          "output_type": "stream",
          "text": [
            "INFO:werkzeug:\u001b[31m\u001b[1mWARNING: This is a development server. Do not use it in a production deployment. Use a production WSGI server instead.\u001b[0m\n",
            " * Running on http://127.0.0.1:5000\n",
            "INFO:werkzeug:\u001b[33mPress CTRL+C to quit\u001b[0m\n"
          ]
        },
        {
          "name": "stdout",
          "output_type": "stream",
          "text": [
            " * Running on http://8498-34-138-242-193.ngrok-free.app\n",
            " * Traffic stats available on http://127.0.0.1:4040\n"
          ]
        },
        {
          "name": "stderr",
          "output_type": "stream",
          "text": [
            "INFO:werkzeug:127.0.0.1 - - [30/May/2023 04:53:06] \"\u001b[33mPOST / HTTP/1.1\u001b[0m\" 404 -\n",
            "INFO:werkzeug:127.0.0.1 - - [30/May/2023 04:55:39] \"\u001b[33mPOST / HTTP/1.1\u001b[0m\" 404 -\n"
          ]
        }
      ],
      "source": [
        "app.run()"
      ]
    },
    {
      "attachments": {},
      "cell_type": "markdown",
      "metadata": {
        "id": "YIriv7WbFDuz"
      },
      "source": [
        "<br>\n",
        "\n",
        "-----\n",
        "\n",
        "<br>\n",
        "\n",
        "### Try3 : 기능 단위 시도"
      ]
    },
    {
      "attachments": {},
      "cell_type": "markdown",
      "metadata": {
        "id": "NA-aiupLkSyc"
      },
      "source": [
        "#### (Try3)TEST 1 : ngrok서버에 접속 후 정상적으로 연결되었는지 스마트폰으로 ngrok링크에 접속하여 확인하기"
      ]
    },
    {
      "cell_type": "code",
      "execution_count": null,
      "metadata": {
        "id": "5wE4sDXcDcqP"
      },
      "outputs": [],
      "source": [
        "# test 1\n",
        "from flask import Flask, request\n",
        "from flask_ngrok import run_with_ngrok\n",
        "  \n",
        "app = Flask(__name__)\n",
        "run_with_ngrok(app)\n",
        "  \n",
        "@app.route(\"/intro\")\n",
        "def hello():\n",
        "    return \"flask(colab)-ngrok connected test\""
      ]
    },
    {
      "attachments": {},
      "cell_type": "markdown",
      "metadata": {
        "id": "ltd_RhFJnYfg"
      },
      "source": [
        "#### (Try3)TEST 2 : ngrok주소를 통해 fastapi의 라우터에서 데이터 전달받기"
      ]
    },
    {
      "attachments": {},
      "cell_type": "markdown",
      "metadata": {
        "id": "tl7fJL0DZQ-L"
      },
      "source": [
        "Differences between request.get_data and request.get_json <br>\n",
        "(requst.get_data와 request.get_json의 차이)\n",
        "\n",
        "<br>\n",
        "\n",
        "**request.get_data**\n",
        "1. 원시 데이터를 바이트 문자열로 반환함\n",
        "2. 전달 받은 데이터 유형에 관계 없이 데이터(content)를 검색함\n",
        "3. 바이너리 데이터나 json데이터를 전달 받을 경우 에러\n",
        "4. 요청에 본문(content)가 없거나 비어있으면, 빈 바이트 문자열을 반환함.\n",
        "<br>\n",
        "\n",
        "**request.get_json**\n",
        "1. 요청 데이터가 json형식이라고 가정하고 분석하여 파이썬 딕셔너리로 반환함.\n",
        "2. content-type헤더를 자동으로 처리하여 요청 본문에서 json데이터를 추출함\n",
        "3. 요청에 JSON 콘텐츠 유형이 없거나 JSON 데이터가 잘못된 경우 예외를 발생함. <br>\n",
        "   기본적으로 JSON으로 인코딩된 데이터만 지원하며 요청의 콘텐츠 유형이 application/json일 것으로 예상함.\n",
        "4. 일반적으로 클라이언트(여기에서는 fastapi가 클라이언트가 된다.)가 요청 본문에 JSON 데이터를   \n",
        "   전송할 때(예: RESTful API) 사용됨."
      ]
    },
    {
      "attachments": {},
      "cell_type": "markdown",
      "metadata": {
        "id": "sd4b95bAczRQ"
      },
      "source": [
        "flask에서, <br>\n",
        "@app.route('/chatbot', methods=['POST']) <br>\n",
        "데코리이터는 post요청만 받고, 나머지 get,delete,put요청이 들어오면 405 에러를 반환한다."
      ]
    },
    {
      "cell_type": "code",
      "execution_count": null,
      "metadata": {
        "id": "q9zlB669nPjj"
      },
      "outputs": [],
      "source": [
        "# test 2\n",
        "from flask import Flask, request\n",
        "from flask_ngrok import run_with_ngrok\n",
        "  \n",
        "app = Flask(__name__)\n",
        "run_with_ngrok(app)\n",
        "\n",
        "@app.route('/chatbot', methods=['POST'])\n",
        "def chatbot():\n",
        "  fastapi_data = request.get_json()\n",
        "  return \"Return form Flask\"\n",
        "\n",
        "\n",
        "# fastapi_data = request.get_json()"
      ]
    },
    {
      "cell_type": "code",
      "execution_count": null,
      "metadata": {
        "colab": {
          "base_uri": "https://localhost:8080/"
        },
        "id": "-YS3u7yWksML",
        "outputId": "4b384091-df0b-424f-eee0-54ae83940014"
      },
      "outputs": [
        {
          "name": "stdout",
          "output_type": "stream",
          "text": [
            " * Serving Flask app '__main__'\n",
            " * Debug mode: off\n"
          ]
        },
        {
          "name": "stderr",
          "output_type": "stream",
          "text": [
            "INFO:werkzeug:\u001b[31m\u001b[1mWARNING: This is a development server. Do not use it in a production deployment. Use a production WSGI server instead.\u001b[0m\n",
            " * Running on http://127.0.0.1:5000\n",
            "INFO:werkzeug:\u001b[33mPress CTRL+C to quit\u001b[0m\n"
          ]
        },
        {
          "name": "stdout",
          "output_type": "stream",
          "text": [
            " * Running on http://f8f2-34-121-179-226.ngrok-free.app\n",
            " * Traffic stats available on http://127.0.0.1:4040\n"
          ]
        },
        {
          "name": "stderr",
          "output_type": "stream",
          "text": [
            "INFO:werkzeug:127.0.0.1 - - [01/Jun/2023 05:16:57] \"POST /chatbot HTTP/1.1\" 200 -\n"
          ]
        }
      ],
      "source": [
        "app.run()"
      ]
    },
    {
      "attachments": {},
      "cell_type": "markdown",
      "metadata": {
        "id": "gcgcdZUNbdBB"
      },
      "source": [
        "#### (Try3)TEST 3 : ngrok주소를 통해 flask에서 fastapi로 데이터 전달하기"
      ]
    },
    {
      "cell_type": "code",
      "execution_count": null,
      "metadata": {
        "id": "6T6TGramY4Pm"
      },
      "outputs": [],
      "source": [
        "# test 3\n",
        "from flask import Flask, request, jsonify\n",
        "from flask_ngrok import run_with_ngrok\n",
        "import requests\n",
        "import json\n",
        "\n",
        "app = Flask(__name__)\n",
        "run_with_ngrok(app)\n",
        "\n",
        "@app.route('/chatbot', methods=['POST'])\n",
        "def chatbot():\n",
        "  fastapi_data = request.get_json()\n",
        "  fastapi_data[\"message\"] = \"hi\"\n",
        "  return jsonify(fastapi_data)"
      ]
    },
    {
      "cell_type": "code",
      "execution_count": null,
      "metadata": {
        "colab": {
          "base_uri": "https://localhost:8080/"
        },
        "id": "LVHw-CsEdZCa",
        "outputId": "08f82f4a-847a-4b65-d534-749f1f8f6999"
      },
      "outputs": [
        {
          "name": "stdout",
          "output_type": "stream",
          "text": [
            " * Serving Flask app '__main__'\n",
            " * Debug mode: off\n"
          ]
        },
        {
          "name": "stderr",
          "output_type": "stream",
          "text": [
            "INFO:werkzeug:\u001b[31m\u001b[1mWARNING: This is a development server. Do not use it in a production deployment. Use a production WSGI server instead.\u001b[0m\n",
            " * Running on http://127.0.0.1:5000\n",
            "INFO:werkzeug:\u001b[33mPress CTRL+C to quit\u001b[0m\n"
          ]
        },
        {
          "name": "stdout",
          "output_type": "stream",
          "text": [
            " * Running on http://1b3c-35-221-169-189.ngrok-free.app\n",
            " * Traffic stats available on http://127.0.0.1:4040\n"
          ]
        },
        {
          "name": "stderr",
          "output_type": "stream",
          "text": [
            "INFO:werkzeug:127.0.0.1 - - [03/Jun/2023 13:00:56] \"POST /chatbot HTTP/1.1\" 200 -\n"
          ]
        }
      ],
      "source": [
        "app.run()"
      ]
    },
    {
      "attachments": {},
      "cell_type": "markdown",
      "metadata": {
        "id": "4m9D-ZVZWzgm"
      },
      "source": [
        "---\n",
        "\n",
        "<br>\n",
        "\n",
        "#### (Try3)TEST 4 : flask chatGPT api call test"
      ]
    },
    {
      "cell_type": "code",
      "execution_count": null,
      "metadata": {
        "colab": {
          "base_uri": "https://localhost:8080/"
        },
        "id": "Vu9EjpQKXHLc",
        "outputId": "9f7eada2-a459-445b-d9d5-bbd660a37f70"
      },
      "outputs": [
        {
          "name": "stdout",
          "output_type": "stream",
          "text": [
            "Looking in indexes: https://pypi.org/simple, https://us-python.pkg.dev/colab-wheels/public/simple/\n",
            "Collecting openai\n",
            "  Downloading openai-0.27.7-py3-none-any.whl (71 kB)\n",
            "\u001b[2K     \u001b[90m━━━━━━━━━━━━━━━━━━━━━━━━━━━━━━━━━━━━━━━━\u001b[0m \u001b[32m72.0/72.0 kB\u001b[0m \u001b[31m2.7 MB/s\u001b[0m eta \u001b[36m0:00:00\u001b[0m\n",
            "\u001b[?25hRequirement already satisfied: requests>=2.20 in /usr/local/lib/python3.10/dist-packages (from openai) (2.27.1)\n",
            "Requirement already satisfied: tqdm in /usr/local/lib/python3.10/dist-packages (from openai) (4.65.0)\n",
            "Collecting aiohttp (from openai)\n",
            "  Downloading aiohttp-3.8.4-cp310-cp310-manylinux_2_17_x86_64.manylinux2014_x86_64.whl (1.0 MB)\n",
            "\u001b[2K     \u001b[90m━━━━━━━━━━━━━━━━━━━━━━━━━━━━━━━━━━━━━━━━\u001b[0m \u001b[32m1.0/1.0 MB\u001b[0m \u001b[31m20.2 MB/s\u001b[0m eta \u001b[36m0:00:00\u001b[0m\n",
            "\u001b[?25hRequirement already satisfied: urllib3<1.27,>=1.21.1 in /usr/local/lib/python3.10/dist-packages (from requests>=2.20->openai) (1.26.15)\n",
            "Requirement already satisfied: certifi>=2017.4.17 in /usr/local/lib/python3.10/dist-packages (from requests>=2.20->openai) (2022.12.7)\n",
            "Requirement already satisfied: charset-normalizer~=2.0.0 in /usr/local/lib/python3.10/dist-packages (from requests>=2.20->openai) (2.0.12)\n",
            "Requirement already satisfied: idna<4,>=2.5 in /usr/local/lib/python3.10/dist-packages (from requests>=2.20->openai) (3.4)\n",
            "Requirement already satisfied: attrs>=17.3.0 in /usr/local/lib/python3.10/dist-packages (from aiohttp->openai) (23.1.0)\n",
            "Collecting multidict<7.0,>=4.5 (from aiohttp->openai)\n",
            "  Downloading multidict-6.0.4-cp310-cp310-manylinux_2_17_x86_64.manylinux2014_x86_64.whl (114 kB)\n",
            "\u001b[2K     \u001b[90m━━━━━━━━━━━━━━━━━━━━━━━━━━━━━━━━━━━━━━\u001b[0m \u001b[32m114.5/114.5 kB\u001b[0m \u001b[31m12.0 MB/s\u001b[0m eta \u001b[36m0:00:00\u001b[0m\n",
            "\u001b[?25hCollecting async-timeout<5.0,>=4.0.0a3 (from aiohttp->openai)\n",
            "  Downloading async_timeout-4.0.2-py3-none-any.whl (5.8 kB)\n",
            "Collecting yarl<2.0,>=1.0 (from aiohttp->openai)\n",
            "  Downloading yarl-1.9.2-cp310-cp310-manylinux_2_17_x86_64.manylinux2014_x86_64.whl (268 kB)\n",
            "\u001b[2K     \u001b[90m━━━━━━━━━━━━━━━━━━━━━━━━━━━━━━━━━━━━━━\u001b[0m \u001b[32m268.8/268.8 kB\u001b[0m \u001b[31m23.4 MB/s\u001b[0m eta \u001b[36m0:00:00\u001b[0m\n",
            "\u001b[?25hCollecting frozenlist>=1.1.1 (from aiohttp->openai)\n",
            "  Downloading frozenlist-1.3.3-cp310-cp310-manylinux_2_5_x86_64.manylinux1_x86_64.manylinux_2_17_x86_64.manylinux2014_x86_64.whl (149 kB)\n",
            "\u001b[2K     \u001b[90m━━━━━━━━━━━━━━━━━━━━━━━━━━━━━━━━━━━━━━\u001b[0m \u001b[32m149.6/149.6 kB\u001b[0m \u001b[31m14.4 MB/s\u001b[0m eta \u001b[36m0:00:00\u001b[0m\n",
            "\u001b[?25hCollecting aiosignal>=1.1.2 (from aiohttp->openai)\n",
            "  Downloading aiosignal-1.3.1-py3-none-any.whl (7.6 kB)\n",
            "Installing collected packages: multidict, frozenlist, async-timeout, yarl, aiosignal, aiohttp, openai\n",
            "Successfully installed aiohttp-3.8.4 aiosignal-1.3.1 async-timeout-4.0.2 frozenlist-1.3.3 multidict-6.0.4 openai-0.27.7 yarl-1.9.2\n"
          ]
        }
      ],
      "source": [
        "!pip install openai"
      ]
    },
    {
      "cell_type": "code",
      "execution_count": null,
      "metadata": {
        "id": "ZbjtNfOGW0Uc"
      },
      "outputs": [],
      "source": [
        "# test 4\n",
        "from flask import Flask, request, jsonify\n",
        "from flask_ngrok import run_with_ngrok\n",
        "import requests\n",
        "import json\n",
        "import openai\n",
        "\n",
        "app = Flask(__name__)\n",
        "run_with_ngrok(app)\n",
        "\n",
        "@app.route('/chatbot', methods=['POST'])\n",
        "def chatbot():\n",
        "  # prompt = \"hi\"  # 기본 메시지\n",
        "\n",
        "  if request.is_json:\n",
        "      data = request.get_json()\n",
        "      if \"message\" in data:\n",
        "          prompt = data[\"message\"]\n",
        "\n",
        "import os\n",
        "import openai\n",
        "path = \"/content/drive/MyDrive/캡디 벡터DB화/\"\n",
        "file = path + \"api_key.txt\"\n",
        "OPEN_API_KEY=open(file, \"r\").read()\n",
        "openai.api_key = OPEN_API_KEY\n",
        "#   openai.api_key = \n",
        "\n",
        "  # OpenAI API 호출\n",
        "  completion = openai.Completion.create(\n",
        "      engine=\"text-davinci-003\",\n",
        "      prompt=prompt,\n",
        "      max_tokens=128,\n",
        "      temperature=0.5,\n",
        "      top_p=1,\n",
        "      frequency_penalty=0,\n",
        "      presence_penalty=0\n",
        "  )\n",
        "\n",
        "  response = completion.choices[0].text.strip()\n",
        "\n",
        "  return jsonify({\"response\": response})\n",
        "\n",
        "  # fastapi_data = request.get_json()\n",
        "  # fastapi_data[\"message\"] = \"hi\"\n",
        "  # return jsonify(fastapi_data)"
      ]
    },
    {
      "cell_type": "code",
      "execution_count": null,
      "metadata": {
        "colab": {
          "background_save": true,
          "base_uri": "https://localhost:8080/"
        },
        "id": "oEEymoo0XadC",
        "outputId": "91739b73-be43-438c-9cfc-74e300e6c388"
      },
      "outputs": [
        {
          "name": "stdout",
          "output_type": "stream",
          "text": [
            " * Serving Flask app '__main__'\n",
            " * Debug mode: off\n"
          ]
        },
        {
          "name": "stderr",
          "output_type": "stream",
          "text": [
            "INFO:werkzeug:\u001b[31m\u001b[1mWARNING: This is a development server. Do not use it in a production deployment. Use a production WSGI server instead.\u001b[0m\n",
            " * Running on http://127.0.0.1:5000\n",
            "INFO:werkzeug:\u001b[33mPress CTRL+C to quit\u001b[0m\n"
          ]
        },
        {
          "name": "stdout",
          "output_type": "stream",
          "text": [
            " * Running on http://b36e-35-221-169-189.ngrok-free.app\n",
            " * Traffic stats available on http://127.0.0.1:4040\n"
          ]
        },
        {
          "name": "stderr",
          "output_type": "stream",
          "text": [
            "INFO:werkzeug:127.0.0.1 - - [03/Jun/2023 13:49:48] \"POST /chatbot HTTP/1.1\" 200 -\n",
            "INFO:werkzeug:127.0.0.1 - - [03/Jun/2023 13:51:07] \"POST /chatbot HTTP/1.1\" 200 -\n",
            "INFO:werkzeug:127.0.0.1 - - [03/Jun/2023 13:51:52] \"POST /chatbot HTTP/1.1\" 200 -\n",
            "INFO:werkzeug:127.0.0.1 - - [03/Jun/2023 13:54:12] \"POST /chatbot HTTP/1.1\" 200 -\n",
            "INFO:werkzeug:127.0.0.1 - - [03/Jun/2023 13:54:47] \"POST /chatbot HTTP/1.1\" 200 -\n"
          ]
        }
      ],
      "source": [
        "app.run()"
      ]
    },
    {
      "attachments": {},
      "cell_type": "markdown",
      "metadata": {
        "id": "g0wh8apaY46v"
      },
      "source": [
        "*Key hiding solution*"
      ]
    },
    {
      "cell_type": "code",
      "execution_count": null,
      "metadata": {
        "id": "KYMJC4ttZ2zQ"
      },
      "outputs": [],
      "source": [
        "# import os\n",
        "# import openai\n",
        "# path = \"/content/drive/MyDrive/캡디 벡터DB화/\"\n",
        "# file = path + \"api_key.txt\"\n",
        "# OPEN_API_KEY=open(file, \"r\").read()\n",
        "# openai.api_key = OPEN_API_KEY\n",
        "# os.environ[\"OPENAI_API_KEY\"] = OPEN_API_KEY"
      ]
    },
    {
      "attachments": {},
      "cell_type": "markdown",
      "metadata": {
        "id": "Yo1ygXPh9RFP"
      },
      "source": [
        "<br>\n",
        "\n",
        "-----\n",
        "\n",
        "<br>\n",
        "\n",
        "### Try4 : VectorDB TEST"
      ]
    }
  ],
  "metadata": {
    "colab": {
      "provenance": []
    },
    "kernelspec": {
      "display_name": "Python 3",
      "name": "python3"
    },
    "language_info": {
      "name": "python"
    }
  },
  "nbformat": 4,
  "nbformat_minor": 0
}
