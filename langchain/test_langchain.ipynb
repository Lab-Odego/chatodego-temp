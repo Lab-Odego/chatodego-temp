{
 "cells": [
  {
   "cell_type": "code",
   "execution_count": 8,
   "metadata": {},
   "outputs": [],
   "source": [
    "import os\n",
    "import openai\n",
    "path = \"./../dataGenerate\"\n",
    "file = path + \"/api_key.txt\"\n",
    "OPEN_API_KEY=open(file, \"r\").read()\n",
    "openai.api_key = OPEN_API_KEY\n",
    "os.environ[\"OPENAI_API_KEY\"] = OPEN_API_KEY\n",
    "# database =\"\""
   ]
  },
  {
   "cell_type": "code",
   "execution_count": 6,
   "metadata": {},
   "outputs": [
    {
     "name": "stdout",
     "output_type": "stream",
     "text": [
      "Python 3.10.11\n",
      "Python 3.10.11\n"
     ]
    }
   ],
   "source": [
    "!python --version\n",
    "# !wget https://www.python.org/ftp/python/3.6.9/Python-3.6.9.tgz\n",
    "# !tar xvfz Python-3.6.9.tgz\n",
    "# !Python-3.6.9/configure\n",
    "# !make\n",
    "# !sudo make install\n",
    "!python --version"
   ]
  },
  {
   "cell_type": "code",
   "execution_count": 9,
   "metadata": {},
   "outputs": [],
   "source": [
    "from langchain.document_loaders import CSVLoader\n",
    "datasetPath = os.getcwd()\n",
    "csvPath = datasetPath + \"\\\\test_data_for_generation.csv\"\n",
    "\n",
    "loader = CSVLoader(file_path=csvPath)\n",
    "\n",
    "document = loader.load()\n"
   ]
  },
  {
   "cell_type": "code",
   "execution_count": 5,
   "metadata": {},
   "outputs": [
    {
     "data": {
      "text/plain": [
       "10"
      ]
     },
     "execution_count": 5,
     "metadata": {},
     "output_type": "execute_result"
    }
   ],
   "source": [
    "from langchain.text_splitter import CharacterTextSplitter\n",
    "text_splitter = CharacterTextSplitter(chunk_size=1000, chunk_overlap=0)\n",
    "docs = text_splitter.split_documents(document)\n",
    "len(docs)"
   ]
  },
  {
   "cell_type": "code",
   "execution_count": 6,
   "metadata": {},
   "outputs": [
    {
     "name": "stdout",
     "output_type": "stream",
     "text": [
      "가게이름: 스타벅스 명지강변DT점\n",
      "가게카테고리: 스타벅스\n",
      "별점: 3.3\n",
      "주소: 부산 강서구 르노삼성대로 620 (우)46773\n",
      "검색량: 26209\n"
     ]
    }
   ],
   "source": [
    "print(docs[1].page_content)"
   ]
  },
  {
   "cell_type": "code",
   "execution_count": 8,
   "metadata": {},
   "outputs": [],
   "source": [
    "#@title 9. Embeddings and VectorStore\n",
    "from langchain.embeddings import HuggingFaceEmbeddings\n",
    "# from langchain.embeddings import OpenAIEmbeddings\n",
    "\n",
    "embeddings = HuggingFaceEmbeddings()\n",
    "# embeddings = OpenAIEmbeddings()"
   ]
  },
  {
   "cell_type": "code",
   "execution_count": 10,
   "metadata": {},
   "outputs": [
    {
     "name": "stdout",
     "output_type": "stream",
     "text": [
      "Package                       Version\n",
      "----------------------------- ------------\n",
      "aiohttp                       3.8.4\n",
      "aiosignal                     1.3.1\n",
      "appdirs                       1.4.4\n",
      "asttokens                     2.2.1\n",
      "async-timeout                 4.0.2\n",
      "attrs                         23.1.0\n",
      "backcall                      0.2.0\n",
      "backports.functools-lru-cache 1.6.4\n",
      "brotlipy                      0.7.0\n",
      "certifi                       2023.5.7\n",
      "cffi                          1.15.1\n",
      "charset-normalizer            2.0.4\n",
      "click                         8.1.3\n",
      "colorama                      0.4.6\n",
      "comm                          0.1.3\n",
      "contourpy                     1.0.7\n",
      "cryptography                  40.0.2\n",
      "cycler                        0.11.0\n",
      "dataclasses                   0.8\n",
      "dataclasses-json              0.5.7\n",
      "datasets                      2.12.0\n",
      "debugpy                       1.6.7\n",
      "decorator                     5.1.1\n",
      "dill                          0.3.6\n",
      "docker-pycreds                0.4.0\n",
      "et-xmlfile                    1.1.0\n",
      "executing                     1.2.0\n",
      "faiss                         1.7.2\n",
      "filelock                      3.12.0\n",
      "fonttools                     4.39.4\n",
      "frozenlist                    1.3.3\n",
      "fsspec                        2023.5.0\n",
      "future                        0.18.3\n",
      "gitdb                         4.0.10\n",
      "GitPython                     3.1.31\n",
      "greenlet                      2.0.2\n",
      "huggingface-hub               0.14.1\n",
      "idna                          3.4\n",
      "importlib-metadata            6.6.0\n",
      "ipykernel                     6.23.1\n",
      "ipython                       8.13.2\n",
      "jedi                          0.18.2\n",
      "joblib                        1.2.0\n",
      "jupyter_client                8.2.0\n",
      "jupyter_core                  5.3.0\n",
      "kiwisolver                    1.4.4\n",
      "langchain                     0.0.175\n",
      "marshmallow                   3.19.0\n",
      "marshmallow-enum              1.5.1\n",
      "matplotlib                    3.7.1\n",
      "matplotlib-inline             0.1.6\n",
      "mkl-service                   2.4.0\n",
      "multidict                     6.0.4\n",
      "multiprocess                  0.70.14\n",
      "munkres                       1.1.4\n",
      "mypy-extensions               1.0.0\n",
      "nest-asyncio                  1.5.6\n",
      "nltk                          3.8.1\n",
      "numexpr                       2.8.4\n",
      "numpy                         1.24.3\n",
      "openai                        0.27.5\n",
      "openapi-schema-pydantic       1.2.4\n",
      "openpyxl                      3.1.2\n",
      "packaging                     23.1\n",
      "pandas                        2.0.1\n",
      "pandas-stubs                  2.0.1.230501\n",
      "parso                         0.8.3\n",
      "pathtools                     0.1.2\n",
      "pickleshare                   0.7.5\n",
      "Pillow                        9.5.0\n",
      "pip                           23.1.2\n",
      "platformdirs                  3.5.1\n",
      "plotly                        5.14.1\n",
      "pooch                         1.7.0\n",
      "prompt-toolkit                3.0.38\n",
      "protobuf                      4.21.12\n",
      "psutil                        5.9.5\n",
      "pure-eval                     0.2.2\n",
      "pyarrow                       12.0.0\n",
      "pycparser                     2.21\n",
      "pydantic                      1.10.7\n",
      "Pygments                      2.15.1\n",
      "pyOpenSSL                     23.1.1\n",
      "pyparsing                     3.0.9\n",
      "PySocks                       1.7.1\n",
      "python-dateutil               2.8.2\n",
      "pytz                          2023.3\n",
      "pywin32                       304\n",
      "PyYAML                        6.0\n",
      "pyzmq                         25.0.2\n",
      "regex                         2023.5.5\n",
      "requests                      2.29.0\n",
      "responses                     0.18.0\n",
      "sacremoses                    0.0.53\n",
      "scikit-learn                  1.2.2\n",
      "scipy                         1.10.1\n",
      "sentence-transformers         2.2.2\n",
      "sentencepiece                 0.1.97\n",
      "sentry-sdk                    1.21.1\n",
      "setproctitle                  1.3.2\n",
      "setuptools                    67.7.2\n",
      "six                           1.16.0\n",
      "smmap                         3.0.5\n",
      "SQLAlchemy                    2.0.15\n",
      "stack-data                    0.6.2\n",
      "stringcase                    1.2.0\n",
      "tenacity                      8.2.2\n",
      "threadpoolctl                 3.1.0\n",
      "tokenizers                    0.13.3\n",
      "torch                         1.12.1\n",
      "torchvision                   0.13.1a0\n",
      "tornado                       6.3.2\n",
      "tqdm                          4.65.0\n",
      "traitlets                     5.9.0\n",
      "transformers                  4.29.2\n",
      "types-pytz                    2023.3.0.0\n",
      "typing_extensions             4.5.0\n",
      "typing-inspect                0.8.0\n",
      "tzdata                        2023.3\n",
      "unicodedata2                  15.0.0\n",
      "urllib3                       1.26.15\n",
      "wandb                         0.15.3\n",
      "wcwidth                       0.2.6\n",
      "wheel                         0.40.0\n",
      "win-inet-pton                 1.1.0\n",
      "xxhash                        0.0.0\n",
      "yarl                          1.9.1\n",
      "zipp                          3.15.0\n"
     ]
    }
   ],
   "source": [
    "!pip list"
   ]
  },
  {
   "cell_type": "code",
   "execution_count": 9,
   "metadata": {},
   "outputs": [],
   "source": [
    "from langchain.indexes import VectorstoreIndexCreator\n",
    "from langchain.vectorstores import FAISS"
   ]
  },
  {
   "cell_type": "code",
   "execution_count": 12,
   "metadata": {},
   "outputs": [],
   "source": [
    "index = VectorstoreIndexCreator(\n",
    "    vectorstore_cls=FAISS,\n",
    "    embedding=embeddings,\n",
    "    # text_splitter=text_splitter,\n",
    "    ).from_loaders([loader])\n",
    "\n",
    "# 파일로 저장\n",
    "index.vectorstore.save_local(\"faiss-nj\")"
   ]
  },
  {
   "cell_type": "code",
   "execution_count": 13,
   "metadata": {},
   "outputs": [],
   "source": [
    "from langchain.chat_models import ChatOpenAI\n",
    "chat = ChatOpenAI(model_name='gpt-3.5-turbo', temperature=0.9)"
   ]
  },
  {
   "cell_type": "code",
   "execution_count": 14,
   "metadata": {},
   "outputs": [
    {
     "name": "stdout",
     "output_type": "stream",
     "text": [
      "\n",
      "\n",
      "\u001b[1m> Entering new RetrievalQA chain...\u001b[0m\n",
      "\n",
      "\u001b[1m> Finished chain.\u001b[0m\n"
     ]
    },
    {
     "data": {
      "text/plain": [
       "'저는 비아조의 대표메뉴에 대해 알지 못합니다. 가게 정보에 대한 정보만 제공됩니다. 죄송합니다.'"
      ]
     },
     "execution_count": 14,
     "metadata": {},
     "output_type": "execute_result"
    }
   ],
   "source": [
    "index.query(\"비아조의 대표메뉴는?\", llm=chat, verbose=True)"
   ]
  },
  {
   "cell_type": "code",
   "execution_count": 15,
   "metadata": {},
   "outputs": [
    {
     "name": "stdout",
     "output_type": "stream",
     "text": [
      "\n",
      "\n",
      "\u001b[1m> Entering new RetrievalQA chain...\u001b[0m\n",
      "\n",
      "\u001b[1m> Finished chain.\u001b[0m\n"
     ]
    },
    {
     "data": {
      "text/plain": [
       "'비아조의 주소는 부산 강서구 식만로 164 (우)46707 입니다.'"
      ]
     },
     "execution_count": 15,
     "metadata": {},
     "output_type": "execute_result"
    }
   ],
   "source": [
    "index.query(\"비아조의 주소는?\", llm=chat, verbose=True)"
   ]
  },
  {
   "cell_type": "code",
   "execution_count": 16,
   "metadata": {},
   "outputs": [
    {
     "name": "stdout",
     "output_type": "stream",
     "text": [
      "\n",
      "\n",
      "\u001b[1m> Entering new RetrievalQA chain...\u001b[0m\n",
      "\n",
      "\u001b[1m> Finished chain.\u001b[0m\n"
     ]
    },
    {
     "data": {
      "text/plain": [
       "'죄송합니다. 스타벅스해운대점의 정보는 제공하지 않았습니다.'"
      ]
     },
     "execution_count": 16,
     "metadata": {},
     "output_type": "execute_result"
    }
   ],
   "source": [
    "index.query(\"스타벅스해운대점의 주소는?\", llm=chat, verbose=True)"
   ]
  },
  {
   "cell_type": "code",
   "execution_count": 17,
   "metadata": {},
   "outputs": [
    {
     "name": "stdout",
     "output_type": "stream",
     "text": [
      "\n",
      "\n",
      "\u001b[1m> Entering new RetrievalQA chain...\u001b[0m\n",
      "\n",
      "\u001b[1m> Finished chain.\u001b[0m\n"
     ]
    },
    {
     "data": {
      "text/plain": [
       "'죄송합니다. 제가 가진 정보에는 \"스타벅스 해운대점\"에 대한 정보가 없습니다.'"
      ]
     },
     "execution_count": 17,
     "metadata": {},
     "output_type": "execute_result"
    }
   ],
   "source": [
    "index.query(\"스타벅스 해운대점의 주소는?\", llm=chat, verbose=True)"
   ]
  },
  {
   "cell_type": "code",
   "execution_count": 18,
   "metadata": {},
   "outputs": [
    {
     "name": "stdout",
     "output_type": "stream",
     "text": [
      "\n",
      "\n",
      "\u001b[1m> Entering new RetrievalQA chain...\u001b[0m\n",
      "\n",
      "\u001b[1m> Finished chain.\u001b[0m\n"
     ]
    },
    {
     "data": {
      "text/plain": [
       "'스타벅스의 주소는 \"부산 강서구 르노삼성대로 620 (우)46773\" 입니다.'"
      ]
     },
     "execution_count": 18,
     "metadata": {},
     "output_type": "execute_result"
    }
   ],
   "source": [
    "index.query(\"스타벅스의 주소는?\", llm=chat, verbose=True)"
   ]
  },
  {
   "cell_type": "code",
   "execution_count": null,
   "metadata": {},
   "outputs": [],
   "source": [
    "index.query(\"스타벅스해운대점의 주소는?\", llm=chat, verbose=True)"
   ]
  },
  {
   "cell_type": "code",
   "execution_count": 20,
   "metadata": {},
   "outputs": [
    {
     "name": "stdout",
     "output_type": "stream",
     "text": [
      "\n",
      "\n",
      "\u001b[1m> Entering new RetrievalQA chain...\u001b[0m\n",
      "\n",
      "\u001b[1m> Finished chain.\u001b[0m\n"
     ]
    },
    {
     "data": {
      "text/plain": [
       "'영진돼지국밥의 우편번호는 46763입니다.'"
      ]
     },
     "execution_count": 20,
     "metadata": {},
     "output_type": "execute_result"
    }
   ],
   "source": [
    "index.query(\"영전돼지국밥 우ㅣ치는?\", llm=chat, verbose=True)"
   ]
  },
  {
   "cell_type": "code",
   "execution_count": null,
   "metadata": {},
   "outputs": [],
   "source": [
    "# def chat(message):\n",
    "#     response = openai.ChatCompletion.create(\n",
    "#         model=\"gpt-3.5-turbo\",\n",
    "#         messages=[\n",
    "#             {\"role\": \"system\", \"content\": database},\n",
    "#             {\"role\": \"user\", \"content\": message},\n",
    "#         ],\n",
    "#     )\n",
    "#     print(response.choices[0][\"message\"][\"content\"])"
   ]
  },
  {
   "cell_type": "code",
   "execution_count": null,
   "metadata": {},
   "outputs": [],
   "source": []
  }
 ],
 "metadata": {
  "kernelspec": {
   "display_name": "langchain",
   "language": "python",
   "name": "python3"
  },
  "language_info": {
   "codemirror_mode": {
    "name": "ipython",
    "version": 3
   },
   "file_extension": ".py",
   "mimetype": "text/x-python",
   "name": "python",
   "nbconvert_exporter": "python",
   "pygments_lexer": "ipython3",
   "version": "3.10.11"
  },
  "orig_nbformat": 4
 },
 "nbformat": 4,
 "nbformat_minor": 2
}
